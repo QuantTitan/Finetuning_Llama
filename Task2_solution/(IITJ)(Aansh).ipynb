{
  "metadata": {
    "kernelspec": {
      "language": "python",
      "display_name": "Python 3",
      "name": "python3"
    },
    "language_info": {
      "name": "python",
      "version": "3.10.14",
      "mimetype": "text/x-python",
      "codemirror_mode": {
        "name": "ipython",
        "version": 3
      },
      "pygments_lexer": "ipython3",
      "nbconvert_exporter": "python",
      "file_extension": ".py"
    },
    "kaggle": {
      "accelerator": "none",
      "dataSources": [],
      "dockerImageVersionId": 30804,
      "isInternetEnabled": true,
      "language": "python",
      "sourceType": "notebook",
      "isGpuEnabled": false
    },
    "colab": {
      "provenance": []
    }
  },
  "nbformat_minor": 0,
  "nbformat": 4,
  "cells": [
    {
      "cell_type": "markdown",
      "source": [],
      "metadata": {
        "id": "5HTpFHemea-K"
      }
    },
    {
      "cell_type": "code",
      "source": [
        "import json\n",
        "import pandas as pd"
      ],
      "metadata": {
        "_uuid": "8f2839f25d086af736a60e9eeb907d3b93b6e0e5",
        "_cell_guid": "b1076dfc-b9ad-4769-8c92-a6c4dae69d19",
        "trusted": true,
        "execution": {
          "iopub.status.busy": "2024-12-08T21:44:54.737411Z",
          "iopub.execute_input": "2024-12-08T21:44:54.737836Z",
          "iopub.status.idle": "2024-12-08T21:44:54.760757Z",
          "shell.execute_reply.started": "2024-12-08T21:44:54.737797Z",
          "shell.execute_reply": "2024-12-08T21:44:54.759744Z"
        },
        "id": "1RFkN6AFea-N"
      },
      "outputs": [],
      "execution_count": 33
    },
    {
      "cell_type": "code",
      "source": [
        "splits = {'train': 'train.csv', 'validation': 'validation.csv', 'test': 'test.csv'}\n",
        "dfTrain = pd.read_csv(\"hf://datasets/jizzu/llama2_indian_law_v2/\" + splits[\"train\"])\n",
        "dfTest = pd.read_csv(\"hf://datasets/jizzu/llama2_indian_law_v2/\" + splits[\"test\"])\n",
        "dfVal = pd.read_csv(\"hf://datasets/jizzu/llama2_indian_law_v2/\" + splits[\"validation\"])"
      ],
      "metadata": {
        "id": "5gM9HE-D_apK"
      },
      "execution_count": 34,
      "outputs": []
    },
    {
      "cell_type": "code",
      "source": [
        "print(dfTrain.head())\n",
        "sampleRow = dfTrain.iloc[1]"
      ],
      "metadata": {
        "colab": {
          "base_uri": "https://localhost:8080/"
        },
        "id": "jCGJWDMMErJf",
        "outputId": "06bf528a-940d-4b1b-cddd-f627d96f0dd7"
      },
      "execution_count": 35,
      "outputs": [
        {
          "output_type": "stream",
          "name": "stdout",
          "text": [
            "                                                text\n",
            "0  ###Human:\\nWhat is the difference between a pe...\n",
            "1  ###Human:\\nWhen should a writ petition be file...\n",
            "2  ###Human:\\nWhat is the procedure for filing a ...\n",
            "3  ###Human:\\nWhat are the common reliefs sought ...\n",
            "4  ###Human:\\nCan a plaint be amended after it ha...\n"
          ]
        }
      ]
    },
    {
      "cell_type": "code",
      "source": [
        "formattedTestData = []\n",
        "formattedTrainData = []\n",
        "formattedValData = []\n",
        "\n",
        "for rowData in dfTrain.iterrows():\n",
        "  # print(rowData)\n",
        "  question = rowData[1][0].split(\"###Human:\")[1].split(\"###Assistant:\")[0].strip()\n",
        "  answer = rowData[1][0].split(\"###Assistant:\")[1].strip()\n",
        "  # print(question)\n",
        "  # print(answer)\n",
        "  formattedTrainData.append({\"Human\" : question, \"Assistant\" : answer})\n",
        "\n",
        "for rowData in dfTest.iterrows():\n",
        "  # print(rowData)\n",
        "  question = rowData[1][0].split(\"###Human:\")[1].split(\"###Assistant:\")[0].strip()\n",
        "  answer = rowData[1][0].split(\"###Assistant:\")[1].strip()\n",
        "  # print(question)\n",
        "  # print(answer)\n",
        "  formattedTestData.append({\"Human\" : question, \"Assistant\" : answer})\n",
        "\n",
        "for rowData in dfVal.iterrows():\n",
        "  # print(rowData)\n",
        "  question = rowData[1][0].split(\"###Human:\")[1].split(\"###Assistant:\")[0].strip()\n",
        "  answer = rowData[1][0].split(\"###Assistant:\")[1].strip()\n",
        "  # print(question)\n",
        "  # print(answer)\n",
        "  formattedValData.append({\"Human\" : question, \"Assistant\" : answer})\n"
      ],
      "metadata": {
        "colab": {
          "base_uri": "https://localhost:8080/"
        },
        "collapsed": true,
        "id": "SJ2rvvisFojn",
        "outputId": "68348aae-72a4-4a2d-d603-4ccd06f9d218"
      },
      "execution_count": 36,
      "outputs": [
        {
          "output_type": "stream",
          "name": "stderr",
          "text": [
            "<ipython-input-36-6041d02c8a7e>:7: FutureWarning: Series.__getitem__ treating keys as positions is deprecated. In a future version, integer keys will always be treated as labels (consistent with DataFrame behavior). To access a value by position, use `ser.iloc[pos]`\n",
            "  question = rowData[1][0].split(\"###Human:\")[1].split(\"###Assistant:\")[0].strip()\n",
            "<ipython-input-36-6041d02c8a7e>:8: FutureWarning: Series.__getitem__ treating keys as positions is deprecated. In a future version, integer keys will always be treated as labels (consistent with DataFrame behavior). To access a value by position, use `ser.iloc[pos]`\n",
            "  answer = rowData[1][0].split(\"###Assistant:\")[1].strip()\n",
            "<ipython-input-36-6041d02c8a7e>:15: FutureWarning: Series.__getitem__ treating keys as positions is deprecated. In a future version, integer keys will always be treated as labels (consistent with DataFrame behavior). To access a value by position, use `ser.iloc[pos]`\n",
            "  question = rowData[1][0].split(\"###Human:\")[1].split(\"###Assistant:\")[0].strip()\n",
            "<ipython-input-36-6041d02c8a7e>:16: FutureWarning: Series.__getitem__ treating keys as positions is deprecated. In a future version, integer keys will always be treated as labels (consistent with DataFrame behavior). To access a value by position, use `ser.iloc[pos]`\n",
            "  answer = rowData[1][0].split(\"###Assistant:\")[1].strip()\n",
            "<ipython-input-36-6041d02c8a7e>:23: FutureWarning: Series.__getitem__ treating keys as positions is deprecated. In a future version, integer keys will always be treated as labels (consistent with DataFrame behavior). To access a value by position, use `ser.iloc[pos]`\n",
            "  question = rowData[1][0].split(\"###Human:\")[1].split(\"###Assistant:\")[0].strip()\n",
            "<ipython-input-36-6041d02c8a7e>:24: FutureWarning: Series.__getitem__ treating keys as positions is deprecated. In a future version, integer keys will always be treated as labels (consistent with DataFrame behavior). To access a value by position, use `ser.iloc[pos]`\n",
            "  answer = rowData[1][0].split(\"###Assistant:\")[1].strip()\n"
          ]
        }
      ]
    },
    {
      "cell_type": "code",
      "source": [
        "with open(\"formattedData.json\",\"w\") as f:\n",
        "  json.dump(formattedTrainData, f, indent=2)"
      ],
      "metadata": {
        "id": "_syw9j8qOaLB"
      },
      "execution_count": 31,
      "outputs": []
    },
    {
      "cell_type": "code",
      "source": [
        "with open(\"formattedTestData.json\",\"w\") as f:\n",
        "  json.dump(formattedTestData, f, indent=2)\n",
        "with open(\"formattedValData.json\",\"w\") as f:\n",
        "  json.dump(formattedValData, f, indent=2)"
      ],
      "metadata": {
        "trusted": true,
        "id": "ijyE9az2ea-Q"
      },
      "outputs": [],
      "execution_count": 37
    },
    {
      "cell_type": "code",
      "source": [],
      "metadata": {
        "id": "W3-UbIWIVfKZ"
      },
      "execution_count": null,
      "outputs": []
    }
  ]
}